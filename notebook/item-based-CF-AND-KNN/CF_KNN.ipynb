{
 "metadata": {
  "kernelspec": {
   "language": "python",
   "display_name": "Python 3",
   "name": "python3"
  },
  "language_info": {
   "name": "python",
   "version": "3.7.12",
   "mimetype": "text/x-python",
   "codemirror_mode": {
    "name": "ipython",
    "version": 3
   },
   "pygments_lexer": "ipython3",
   "nbconvert_exporter": "python",
   "file_extension": ".py"
  },
  "kaggle": {
   "accelerator": "none",
   "dataSources": [
    {
     "sourceId": 1094,
     "sourceType": "datasetVersion",
     "datasetId": 571
    }
   ],
   "dockerImageVersionId": 30213,
   "isInternetEnabled": false,
   "language": "python",
   "sourceType": "notebook",
   "isGpuEnabled": false
  }
 },
 "nbformat_minor": 4,
 "nbformat": 4,
 "cells": [
  {
   "cell_type": "code",
   "source": [
    "import numpy as np\n",
    "import pandas as pd\n",
    "import matplotlib.pyplot as plt\n",
    "import seaborn as sns\n",
    "\n",
    "import warnings\n",
    "warnings.filterwarnings('ignore')"
   ],
   "metadata": {
    "_kg_hide-input": true,
    "execution": {
     "iopub.status.busy": "2023-12-09T00:12:34.549216Z",
     "iopub.execute_input": "2023-12-09T00:12:34.549654Z",
     "iopub.status.idle": "2023-12-09T00:12:35.570355Z",
     "shell.execute_reply.started": "2023-12-09T00:12:34.549615Z",
     "shell.execute_reply": "2023-12-09T00:12:35.568592Z"
    },
    "trusted": true
   },
   "execution_count": null,
   "outputs": []
  },
  {
   "cell_type": "markdown",
   "source": [
    "<a id=\"2\"></a>\n",
    "# <p style=\"padding:10px;background-color:orange;margin:0;color:black;font-family:newtimeroman;font-size:100%;text-align:center;border-radius: 15px 50px;overflow:hidden;font-weight:500\">About Dataset</p>"
   ],
   "metadata": {}
  },
  {
   "cell_type": "markdown",
   "source": [
    "This dataset contains information on user preference data from 73,516 users on 12,294 anime. Each user is able to add anime to their completed list and give it a rating and this dataset is a compilation of those ratings.\n",
    "\n",
    "**anime.csv**\n",
    "\n",
    "* **anime_id :** myanimelist.net's unique id identifying an anime.\n",
    "* **name :** full name of anime.\n",
    "* **genre :** comma separated list of genres for this anime.\n",
    "* **type :** movie, TV, OVA, etc.\n",
    "* **episodes :** how many episodes in this show. (1 if movie).\n",
    "* **rating :** average rating out of 10 for this anime.\n",
    "* **members :** number of community members that are in this anime's\n",
    "\"group\".\n",
    "\n",
    "**rating.csv**\n",
    "\n",
    "* **user_id :** non identifiable randomly generated user id.\n",
    "* **anime_id :** the anime that this user has rated.\n",
    "* **rating :** rating out of 10 this user has assigned (-1 if the user watched it but didn't assign a rating)."
   ],
   "metadata": {}
  },
  {
   "cell_type": "code",
   "source": [
    "anime = pd.read_csv(\"../input/anime-recommendations-database/anime.csv\")\n",
    "rating = pd.read_csv(\"../input/anime-recommendations-database/rating.csv\")"
   ],
   "metadata": {
    "_kg_hide-input": true,
    "execution": {
     "iopub.status.busy": "2023-12-09T00:12:35.574633Z",
     "iopub.execute_input": "2023-12-09T00:12:35.575052Z",
     "iopub.status.idle": "2023-12-09T00:12:38.094571Z",
     "shell.execute_reply.started": "2023-12-09T00:12:35.575017Z",
     "shell.execute_reply": "2023-12-09T00:12:38.093528Z"
    },
    "trusted": true
   },
   "execution_count": null,
   "outputs": []
  },
  {
   "cell_type": "markdown",
   "source": [
    "<a id=\"3\"></a>\n",
    "# <p style=\"padding:10px;background-color:orange;margin:0;color:black;font-family:newtimeroman;font-size:100%;text-align:center;border-radius: 15px 50px;overflow:hidden;font-weight:500\">Basic Exploration</p>\n",
    "\n",
    "\n",
    "**Let's have a glimpse of the anime dataset.**"
   ],
   "metadata": {}
  },
  {
   "cell_type": "code",
   "source": [
    "print(f\"Shape of The Anime Dataset : {anime.shape}\")\n",
    "print(f\"\\nGlimpse of The Dataset :\")\n",
    "anime.head().style.set_properties(**{\"background-color\": \"#2a9d8f\",\"color\":\"white\",\"border\": \"1.5px  solid black\"})"
   ],
   "metadata": {
    "_kg_hide-input": true,
    "execution": {
     "iopub.status.busy": "2023-12-09T00:12:38.095530Z",
     "iopub.execute_input": "2023-12-09T00:12:38.095788Z",
     "iopub.status.idle": "2023-12-09T00:12:38.172639Z",
     "shell.execute_reply.started": "2023-12-09T00:12:38.095759Z",
     "shell.execute_reply": "2023-12-09T00:12:38.171753Z"
    },
    "trusted": true
   },
   "execution_count": null,
   "outputs": []
  },
  {
   "cell_type": "code",
   "source": [
    "print(f\"Informations About Anime Dataset :\\n\")\n",
    "print(anime.info())"
   ],
   "metadata": {
    "_kg_hide-input": true,
    "execution": {
     "iopub.status.busy": "2023-12-09T00:12:38.174056Z",
     "iopub.execute_input": "2023-12-09T00:12:38.175166Z",
     "iopub.status.idle": "2023-12-09T00:12:38.197913Z",
     "shell.execute_reply.started": "2023-12-09T00:12:38.175118Z",
     "shell.execute_reply": "2023-12-09T00:12:38.196946Z"
    },
    "trusted": true
   },
   "execution_count": null,
   "outputs": []
  },
  {
   "cell_type": "markdown",
   "source": [
    "**Let's have a glimpse of the rating dataset.**"
   ],
   "metadata": {}
  },
  {
   "cell_type": "code",
   "source": [
    "print(f\"Shape of The Rating Dataset : {rating.shape}\")\n",
    "print(f\"\\nGlimpse of The Dataset :\")\n",
    "rating.head().style.set_properties(**{\"background-color\": \"#2a9d8f\",\"color\":\"white\",\"border\": \"1.5px  solid black\"})"
   ],
   "metadata": {
    "_kg_hide-input": true,
    "execution": {
     "iopub.status.busy": "2023-12-09T00:12:38.201033Z",
     "iopub.execute_input": "2023-12-09T00:12:38.201409Z",
     "iopub.status.idle": "2023-12-09T00:12:38.216619Z",
     "shell.execute_reply.started": "2023-12-09T00:12:38.201377Z",
     "shell.execute_reply": "2023-12-09T00:12:38.215523Z"
    },
    "trusted": true
   },
   "execution_count": null,
   "outputs": []
  },
  {
   "cell_type": "code",
   "source": [
    "print(f\"Informations About Rating Dataset :\\n\")\n",
    "print(rating.info())"
   ],
   "metadata": {
    "_kg_hide-input": true,
    "execution": {
     "iopub.status.busy": "2023-12-09T00:12:38.218100Z",
     "iopub.execute_input": "2023-12-09T00:12:38.218442Z",
     "iopub.status.idle": "2023-12-09T00:12:38.229296Z",
     "shell.execute_reply.started": "2023-12-09T00:12:38.218352Z",
     "shell.execute_reply": "2023-12-09T00:12:38.228261Z"
    },
    "trusted": true
   },
   "execution_count": null,
   "outputs": []
  },
  {
   "cell_type": "markdown",
   "source": [
    "<a id=\"4\"></a>\n",
    "# <p style=\"padding:10px;background-color:orange;margin:0;color:black;font-family:newtimeroman;font-size:100%;text-align:center;border-radius: 15px 50px;overflow:hidden;font-weight:500\">Dataset Summary</p>\n"
   ],
   "metadata": {}
  },
  {
   "cell_type": "code",
   "source": [
    "print(f\"Summary of The Anime Dataset :\")\n",
    "anime.describe().T.style.set_properties(**{\"background-color\": \"#2a9d8f\",\"color\":\"white\",\"border\": \"1.5px  solid black\"})"
   ],
   "metadata": {
    "_kg_hide-input": true,
    "execution": {
     "iopub.status.busy": "2023-12-09T00:12:38.230880Z",
     "iopub.execute_input": "2023-12-09T00:12:38.231231Z",
     "iopub.status.idle": "2023-12-09T00:12:38.266686Z",
     "shell.execute_reply.started": "2023-12-09T00:12:38.231201Z",
     "shell.execute_reply": "2023-12-09T00:12:38.265764Z"
    },
    "trusted": true
   },
   "execution_count": null,
   "outputs": []
  },
  {
   "cell_type": "code",
   "source": [
    "anime.describe(include=object).T.style.set_properties(**{\"background-color\": \"#2a9d8f\",\"color\":\"white\",\"border\": \"1.5px  solid black\"})"
   ],
   "metadata": {
    "_kg_hide-input": true,
    "execution": {
     "iopub.status.busy": "2023-12-09T00:12:38.269584Z",
     "iopub.execute_input": "2023-12-09T00:12:38.269948Z",
     "iopub.status.idle": "2023-12-09T00:12:38.303452Z",
     "shell.execute_reply.started": "2023-12-09T00:12:38.269918Z",
     "shell.execute_reply": "2023-12-09T00:12:38.302096Z"
    },
    "trusted": true
   },
   "execution_count": null,
   "outputs": []
  },
  {
   "cell_type": "code",
   "source": [
    "print(\"Null Values of Anime Dataset :\")\n",
    "anime.isna().sum().to_frame().T.style.set_properties(**{\"background-color\": \"#2a9d8f\",\"color\":\"white\",\"border\": \"1.5px  solid black\"})"
   ],
   "metadata": {
    "_kg_hide-input": true,
    "execution": {
     "iopub.status.busy": "2023-12-09T00:12:38.305881Z",
     "iopub.execute_input": "2023-12-09T00:12:38.306316Z",
     "iopub.status.idle": "2023-12-09T00:12:38.327672Z",
     "shell.execute_reply.started": "2023-12-09T00:12:38.306277Z",
     "shell.execute_reply": "2023-12-09T00:12:38.326758Z"
    },
    "trusted": true
   },
   "execution_count": null,
   "outputs": []
  },
  {
   "cell_type": "code",
   "source": [
    "print(\"After Dropping, Null Values of Anime Dataset :\")\n",
    "anime.dropna(axis = 0, inplace = True)\n",
    "anime.isna().sum().to_frame().T.style.set_properties(**{\"background-color\": \"#2a9d8f\",\"color\":\"white\",\"border\": \"1.5px  solid black\"})"
   ],
   "metadata": {
    "_kg_hide-input": true,
    "execution": {
     "iopub.status.busy": "2023-12-09T00:12:38.328728Z",
     "iopub.execute_input": "2023-12-09T00:12:38.329097Z",
     "iopub.status.idle": "2023-12-09T00:12:38.358125Z",
     "shell.execute_reply.started": "2023-12-09T00:12:38.329060Z",
     "shell.execute_reply": "2023-12-09T00:12:38.356760Z"
    },
    "trusted": true
   },
   "execution_count": null,
   "outputs": []
  },
  {
   "cell_type": "code",
   "source": [
    "dup_anime = anime[anime.duplicated()].shape[0]\n",
    "print(f\"There are {dup_anime} duplicate entries among {anime.shape[0]} entries in anime dataset.\")"
   ],
   "metadata": {
    "_kg_hide-input": true,
    "execution": {
     "iopub.status.busy": "2023-12-09T00:12:38.360042Z",
     "iopub.execute_input": "2023-12-09T00:12:38.360421Z",
     "iopub.status.idle": "2023-12-09T00:12:38.377790Z",
     "shell.execute_reply.started": "2023-12-09T00:12:38.360385Z",
     "shell.execute_reply": "2023-12-09T00:12:38.377052Z"
    },
    "trusted": true
   },
   "execution_count": null,
   "outputs": []
  },
  {
   "cell_type": "code",
   "source": [
    "print(f\"Summary of The Rating Dataset :\")\n",
    "rating.describe().T.style.set_properties(**{\"background-color\": \"#2a9d8f\",\"color\":\"white\",\"border\": \"1.5px  solid black\"})"
   ],
   "metadata": {
    "_kg_hide-input": true,
    "execution": {
     "iopub.status.busy": "2023-12-09T00:12:38.378549Z",
     "iopub.execute_input": "2023-12-09T00:12:38.378844Z",
     "iopub.status.idle": "2023-12-09T00:12:38.797565Z",
     "shell.execute_reply.started": "2023-12-09T00:12:38.378818Z",
     "shell.execute_reply": "2023-12-09T00:12:38.796729Z"
    },
    "trusted": true
   },
   "execution_count": null,
   "outputs": []
  },
  {
   "cell_type": "code",
   "source": [
    "print(\"Null Values of Rating Dataset :\")\n",
    "rating.isna().sum().to_frame().T.style.set_properties(**{\"background-color\": \"#2a9d8f\",\"color\":\"white\",\"border\": \"1.5px  solid black\"})"
   ],
   "metadata": {
    "_kg_hide-input": true,
    "execution": {
     "iopub.status.busy": "2023-12-09T00:12:38.798688Z",
     "iopub.execute_input": "2023-12-09T00:12:38.799284Z",
     "iopub.status.idle": "2023-12-09T00:12:38.830826Z",
     "shell.execute_reply.started": "2023-12-09T00:12:38.799252Z",
     "shell.execute_reply": "2023-12-09T00:12:38.829104Z"
    },
    "trusted": true
   },
   "execution_count": null,
   "outputs": []
  },
  {
   "cell_type": "code",
   "source": [
    "dup_rating = rating[rating.duplicated()].shape[0]\n",
    "print(f\"There are {dup_rating} duplicate entries among {rating.shape[0]} entries in rating dataset.\")\n",
    "\n",
    "rating.drop_duplicates(keep='first',inplace=True)\n",
    "print(f\"\\nAfter removing duplicate entries there are {rating.shape[0]} entries in this dataset.\")"
   ],
   "metadata": {
    "_kg_hide-input": true,
    "execution": {
     "iopub.status.busy": "2023-12-09T00:12:38.837445Z",
     "iopub.execute_input": "2023-12-09T00:12:38.837821Z",
     "iopub.status.idle": "2023-12-09T00:12:41.799011Z",
     "shell.execute_reply.started": "2023-12-09T00:12:38.837792Z",
     "shell.execute_reply": "2023-12-09T00:12:41.797680Z"
    },
    "trusted": true
   },
   "execution_count": null,
   "outputs": []
  },
  {
   "cell_type": "markdown",
   "source": [
    "<a id=\"5\"></a>\n",
    "# <p style=\"padding:10px;background-color:orange;margin:0;color:black;font-family:newtimeroman;font-size:100%;text-align:center;border-radius: 15px 50px;overflow:hidden;font-weight:500\">Digging Deeper</p>\n",
    "\n",
    "\n",
    "Let's merge the **anime** and **rating** datasets."
   ],
   "metadata": {}
  },
  {
   "cell_type": "code",
   "source": [
    "fulldata = pd.merge(anime,rating,on=\"anime_id\",suffixes= [None, \"_user\"])\n",
    "fulldata = fulldata.rename(columns={\"rating_user\": \"user_rating\"})\n",
    "\n",
    "print(f\"Shape of The Merged Dataset : {fulldata.shape}\")\n",
    "print(f\"\\nGlimpse of The Merged Dataset :\")\n",
    "\n",
    "fulldata.head().style.set_properties(**{\"background-color\": \"#2a9d8f\",\"color\":\"white\",\"border\": \"1.5px  solid black\"})"
   ],
   "metadata": {
    "_kg_hide-input": true,
    "execution": {
     "iopub.status.busy": "2023-12-09T00:12:41.800536Z",
     "iopub.execute_input": "2023-12-09T00:12:41.800937Z",
     "iopub.status.idle": "2023-12-09T00:12:43.357280Z",
     "shell.execute_reply.started": "2023-12-09T00:12:41.800900Z",
     "shell.execute_reply": "2023-12-09T00:12:43.356012Z"
    },
    "trusted": true
   },
   "execution_count": null,
   "outputs": []
  },
  {
   "cell_type": "markdown",
   "source": [
    "<a id=\"6\"></a>\n",
    "# <p style=\"padding:10px;background-color:orange;margin:0;color:black;font-family:newtimeroman;font-size:100%;text-align:center;border-radius: 15px 50px;overflow:hidden;font-weight:500\">Custom Palette For Visualization</p>"
   ],
   "metadata": {}
  },
  {
   "cell_type": "code",
   "source": [
    "sns.set_style(\"white\")\n",
    "sns.set_context(\"poster\",font_scale = .7)\n",
    "\n",
    "palette = [\"#1d7874\",\"#679289\",\"#f4c095\",\"#ee2e31\",\"#ffb563\",\"#918450\",\"#f85e00\",\"#a41623\",\"#9a031e\",\"#d6d6d6\",\"#ffee32\",\"#ffd100\",\"#333533\",\"#202020\"]\n",
    "\n",
    "# sns.palplot(sns.color_palette(palette))\n",
    "# plt.show()"
   ],
   "metadata": {
    "_kg_hide-input": true,
    "execution": {
     "iopub.status.busy": "2023-12-09T00:12:43.359220Z",
     "iopub.execute_input": "2023-12-09T00:12:43.359571Z",
     "iopub.status.idle": "2023-12-09T00:12:43.365442Z",
     "shell.execute_reply.started": "2023-12-09T00:12:43.359541Z",
     "shell.execute_reply": "2023-12-09T00:12:43.364377Z"
    },
    "trusted": true
   },
   "execution_count": null,
   "outputs": []
  },
  {
   "cell_type": "markdown",
   "source": [
    "<a id=\"7\"></a>\n",
    "# <p style=\"padding:10px;background-color:orange;margin:0;color:black;font-family:newtimeroman;font-size:100%;text-align:center;border-radius: 15px 50px;overflow:hidden;font-weight:500\">Top Anime Community</p>\n"
   ],
   "metadata": {}
  },
  {
   "cell_type": "code",
   "source": [
    "top_anime = fulldata.copy()\n",
    "top_anime.drop_duplicates(subset =\"name\", keep = \"first\", inplace = True)\n",
    "top_anime_temp1 = top_anime.sort_values([\"members\"],ascending=False)\n",
    "\n",
    "plt.subplots(figsize=(20,8))\n",
    "p = sns.barplot(x=top_anime_temp1[\"name\"][:14],y=top_anime_temp1[\"members\"],palette=palette, saturation=1, edgecolor = \"#1c1c1c\", linewidth = 2)\n",
    "p.axes.set_title(\"\\nTop Anime Community\\n\", fontsize=25)\n",
    "plt.ylabel(\"Total Member\" , fontsize = 20)\n",
    "plt.xlabel(\"\\nAnime Name\" , fontsize = 20)\n",
    "# plt.yscale(\"log\")\n",
    "plt.xticks(rotation = 90)\n",
    "for container in p.containers:\n",
    "    p.bar_label(container,label_type = \"center\",padding = 6,size = 15,color = \"black\",rotation = 90,\n",
    "    bbox={\"boxstyle\": \"round\", \"pad\": 0.6, \"facecolor\": \"orange\", \"edgecolor\": \"black\", \"alpha\": 1})\n",
    "\n",
    "sns.despine(left=True, bottom=True)\n",
    "plt.show()"
   ],
   "metadata": {
    "_kg_hide-input": true,
    "execution": {
     "iopub.status.busy": "2023-12-09T00:12:43.367269Z",
     "iopub.execute_input": "2023-12-09T00:12:43.367640Z",
     "iopub.status.idle": "2023-12-09T00:12:44.800872Z",
     "shell.execute_reply.started": "2023-12-09T00:12:43.367611Z",
     "shell.execute_reply": "2023-12-09T00:12:44.799935Z"
    },
    "trusted": true
   },
   "execution_count": null,
   "outputs": []
  },
  {
   "cell_type": "markdown",
   "source": [
    "**Insights:**\n",
    "\n",
    "* **Death Note** wears the crown for highest community members followed by **Shingeki no Kyojin** and **Sword Art Online**"
   ],
   "metadata": {}
  },
  {
   "cell_type": "markdown",
   "source": [
    "<a id=\"8\"></a>\n",
    "# <p style=\"padding:10px;background-color:orange;margin:0;color:black;font-family:newtimeroman;font-size:100%;text-align:center;border-radius: 15px 50px;overflow:hidden;font-weight:500\">Anime Category</p>\n"
   ],
   "metadata": {}
  },
  {
   "cell_type": "code",
   "source": [
    "print(\"Anime Categories :\")\n",
    "top_anime_temp1[\"type\"].value_counts().to_frame().T.style.set_properties(**{\"background-color\": \"#2a9d8f\",\"color\":\"white\",\"border\": \"1.5px  solid black\"})"
   ],
   "metadata": {
    "_kg_hide-input": true,
    "execution": {
     "iopub.status.busy": "2023-12-09T00:12:44.802354Z",
     "iopub.execute_input": "2023-12-09T00:12:44.802941Z",
     "iopub.status.idle": "2023-12-09T00:12:44.817792Z",
     "shell.execute_reply.started": "2023-12-09T00:12:44.802908Z",
     "shell.execute_reply": "2023-12-09T00:12:44.817117Z"
    },
    "trusted": true
   },
   "execution_count": null,
   "outputs": []
  },
  {
   "cell_type": "code",
   "source": [
    "plt.subplots(figsize=(12, 12))\n",
    "\n",
    "labels = \"TV\",\"OVA\",\"Movie\",\"Special\",\"ONA\",\"Music\"\n",
    "size = 0.5\n",
    "\n",
    "wedges, texts, autotexts = plt.pie([len(top_anime_temp1[top_anime_temp1[\"type\"]==\"TV\"][\"type\"]),\n",
    "                                    len(top_anime_temp1[top_anime_temp1[\"type\"]==\"OVA\"][\"type\"]),\n",
    "                                    len(top_anime_temp1[top_anime_temp1[\"type\"]==\"Movie\"][\"type\"]),\n",
    "                                    len(top_anime_temp1[top_anime_temp1[\"type\"]==\"Special\"][\"type\"]),\n",
    "                                    len(top_anime_temp1[top_anime_temp1[\"type\"]==\"ONA\"][\"type\"]),\n",
    "                                    len(top_anime_temp1[top_anime_temp1[\"type\"]==\"Music\"][\"type\"])],\n",
    "                                    explode = (0,0,0,0,0,0),\n",
    "                                    textprops=dict(size= 20, color= \"white\"),\n",
    "                                    autopct=\"%.2f%%\", \n",
    "                                    pctdistance = 0.7,\n",
    "                                    radius=.9, \n",
    "                                    colors = palette, \n",
    "                                    shadow = True,\n",
    "                                    wedgeprops=dict(width = size, edgecolor = \"#1c1c1c\", \n",
    "                                    linewidth = 4),\n",
    "                                    startangle = 0)\n",
    "\n",
    "plt.legend(wedges, labels, title=\"Category\",loc=\"center left\",bbox_to_anchor=(1, 0, 0.5, 1))\n",
    "plt.title(\"\\nAnime Categories Distribution\",fontsize=20)\n",
    "plt.show()"
   ],
   "metadata": {
    "_kg_hide-input": true,
    "execution": {
     "iopub.status.busy": "2023-12-09T00:12:44.818955Z",
     "iopub.execute_input": "2023-12-09T00:12:44.819576Z",
     "iopub.status.idle": "2023-12-09T00:12:45.074116Z",
     "shell.execute_reply.started": "2023-12-09T00:12:44.819548Z",
     "shell.execute_reply": "2023-12-09T00:12:45.073199Z"
    },
    "trusted": true
   },
   "execution_count": null,
   "outputs": []
  },
  {
   "cell_type": "code",
   "source": [
    "plt.subplots(figsize = (20,8))\n",
    "p = sns.countplot(x = top_anime_temp1[\"type\"], order = top_anime_temp1[\"type\"].value_counts().index, palette = palette, saturation = 1, edgecolor = \"#1c1c1c\", linewidth = 3)\n",
    "p.axes.set_title(\"\\nAnime Categories Hub\\n\" ,fontsize = 25)\n",
    "plt.ylabel(\"Total Anime\" ,fontsize = 20)\n",
    "plt.xlabel(\"\\nAnime Category\" ,fontsize = 20)\n",
    "plt.xticks(rotation = 0)\n",
    "for container in p.containers:\n",
    "    p.bar_label(container,label_type = \"center\",padding = 10,size = 25,color = \"black\",rotation = 0,\n",
    "    bbox={\"boxstyle\": \"round\", \"pad\": 0.4, \"facecolor\": \"orange\", \"edgecolor\": \"black\", \"linewidth\" : 3, \"alpha\": 1})\n",
    "\n",
    "sns.despine(left = True, bottom = True)\n",
    "plt.show()"
   ],
   "metadata": {
    "_kg_hide-input": true,
    "execution": {
     "iopub.status.busy": "2023-12-09T00:12:45.075342Z",
     "iopub.execute_input": "2023-12-09T00:12:45.076135Z",
     "iopub.status.idle": "2023-12-09T00:12:45.292755Z",
     "shell.execute_reply.started": "2023-12-09T00:12:45.076095Z",
     "shell.execute_reply": "2023-12-09T00:12:45.291339Z"
    },
    "trusted": true
   },
   "execution_count": null,
   "outputs": []
  },
  {
   "cell_type": "markdown",
   "source": [
    "**Insights:**\n",
    "\n",
    "* 3402 animes are aired on TV which is 30.48% of total animes\n",
    "* 2111 animes are streamed as Movie which is 18.91% of total animes\n",
    "* 3090 animes are streamed as OVA which is 27.69% of total animes also greater than ONA which includes 526 animes that is 4.71% of total animes."
   ],
   "metadata": {}
  },
  {
   "cell_type": "markdown",
   "source": [
    "<a id=\"9\"></a>\n",
    "# <p style=\"padding:10px;background-color:orange;margin:0;color:black;font-family:newtimeroman;font-size:100%;text-align:center;border-radius: 15px 50px;overflow:hidden;font-weight:500\">Overall Anime Ratings</p>\n"
   ],
   "metadata": {}
  },
  {
   "cell_type": "code",
   "source": [
    "top_anime_temp2 = top_anime.sort_values([\"rating\"],ascending=False)\n",
    "\n",
    "_, axs = plt.subplots(2,1,figsize=(20,16),sharex=False,sharey=False)\n",
    "plt.tight_layout(pad=6.0)\n",
    "\n",
    "sns.histplot(top_anime_temp2[\"rating\"],color=palette[11],kde=True,ax=axs[0],bins=20,alpha=1,fill=True,edgecolor=palette[12])\n",
    "axs[0].lines[0].set_color(palette[12])\n",
    "axs[0].set_title(\"\\nAnime's Average Ratings Distribution\\n\",fontsize = 25)\n",
    "axs[0].set_xlabel(\"Rating\\n\", fontsize = 20)\n",
    "axs[0].set_ylabel(\"Total\", fontsize = 20)\n",
    "\n",
    "sns.histplot(fulldata[\"user_rating\"],color=palette[12],kde=True,ax=axs[1],bins=\"auto\",alpha=1,fill=True)\n",
    "axs[1].lines[0].set_color(palette[11])\n",
    "# axs[1].set_yscale(\"log\")\n",
    "axs[1].set_title(\"\\n\\n\\nUsers Anime Ratings Distribution\\n\",fontsize = 25)\n",
    "axs[1].set_xlabel(\"Rating\", fontsize = 20)\n",
    "axs[1].set_ylabel(\"Total\", fontsize = 20)\n",
    "\n",
    "sns.despine(left=True, bottom=True)\n",
    "plt.show()"
   ],
   "metadata": {
    "_kg_hide-input": true,
    "execution": {
     "iopub.status.busy": "2023-12-09T00:12:45.294192Z",
     "iopub.execute_input": "2023-12-09T00:12:45.294601Z",
     "iopub.status.idle": "2023-12-09T00:13:17.731449Z",
     "shell.execute_reply.started": "2023-12-09T00:12:45.294566Z",
     "shell.execute_reply": "2023-12-09T00:13:17.729954Z"
    },
    "trusted": true
   },
   "execution_count": null,
   "outputs": []
  },
  {
   "cell_type": "markdown",
   "source": [
    "**Insights:**\n",
    "\n",
    "* Most of the Anime ratings are spread between 5.5 - 8.0\n",
    "* Most of the users ratings are spread between 6.0 - 10.0\n",
    "* The mode of the users ratings distribution is around 7.0 - 8.0\n",
    "* Both the distribution are left skewed\n",
    "* Users rating(-1) is an outlier in ratings of users which can be discarded"
   ],
   "metadata": {}
  },
  {
   "cell_type": "markdown",
   "source": [
    "<a id=\"10\"></a>\n",
    "# <p style=\"padding:10px;background-color:orange;margin:0;color:black;font-family:newtimeroman;font-size:100%;text-align:center;border-radius: 15px 50px;overflow:hidden;font-weight:500\">Top Animes Based On Ratings</p>\n"
   ],
   "metadata": {}
  },
  {
   "cell_type": "code",
   "source": [
    "plt.subplots(figsize=(20,8))\n",
    "p = sns.barplot(x=top_anime_temp2[\"name\"][:14],y=top_anime_temp2[\"rating\"],palette=palette, saturation=1, edgecolor = \"#1c1c1c\", linewidth = 2)\n",
    "p.axes.set_title(\"\\nTop Animes Based On Ratings\\n\",fontsize = 25)\n",
    "plt.ylabel(\"Average Rating\",fontsize = 20)\n",
    "plt.xlabel(\"\\nAnime Title\",fontsize = 20)\n",
    "# plt.yscale(\"log\")\n",
    "plt.xticks(rotation = 90)\n",
    "for container in p.containers:\n",
    "    p.bar_label(container,label_type = \"center\",padding = 10,size = 15,color = \"black\",rotation = 0,\n",
    "    bbox={\"boxstyle\": \"round\", \"pad\": 0.6, \"facecolor\": \"orange\", \"edgecolor\": \"black\", \"alpha\": 1})\n",
    "\n",
    "sns.despine(left=True, bottom=True)\n",
    "plt.show()"
   ],
   "metadata": {
    "_kg_hide-input": true,
    "execution": {
     "iopub.status.busy": "2023-12-09T00:13:17.733061Z",
     "iopub.execute_input": "2023-12-09T00:13:17.733485Z",
     "iopub.status.idle": "2023-12-09T00:13:18.114325Z",
     "shell.execute_reply.started": "2023-12-09T00:13:17.733452Z",
     "shell.execute_reply": "2023-12-09T00:13:18.113000Z"
    },
    "trusted": true
   },
   "execution_count": null,
   "outputs": []
  },
  {
   "cell_type": "markdown",
   "source": [
    "**Insights:**\n",
    "\n",
    "* **Mogura no Motoro** wears the crown for highest rating followed by **Kimi no Na wa.** and **Fullmetal Alchemist: Brotherhood**"
   ],
   "metadata": {}
  },
  {
   "cell_type": "markdown",
   "source": [
    "<a id=\"11\"></a>\n",
    "# <p style=\"padding:10px;background-color:orange;margin:0;color:black;font-family:newtimeroman;font-size:100%;text-align:center;border-radius: 15px 50px;overflow:hidden;font-weight:500\">Category-wise Anime Ratings Distribution</p>\n"
   ],
   "metadata": {}
  },
  {
   "cell_type": "code",
   "source": [
    "print(\"Let's explore the ratings distribution of TV category :\\n\")\n",
    "\n",
    "_, axs = plt.subplots(1,2,figsize=(20,8),sharex=False,sharey=False)\n",
    "plt.tight_layout(pad=4.0)\n",
    "\n",
    "sns.histplot(top_anime_temp2[top_anime_temp2[\"type\"]==\"TV\"][\"rating\"],color=palette[0],kde=True,ax=axs[0],bins=20,alpha=1,fill=True,edgecolor=palette[12])\n",
    "axs[0].lines[0].set_color(palette[11])\n",
    "axs[0].set_title(\"\\nAnime's Average Ratings Distribution [Category : TV]\\n\",fontsize=20)\n",
    "axs[0].set_xlabel(\"Rating\")\n",
    "axs[0].set_ylabel(\"Total\")\n",
    "\n",
    "sns.histplot(fulldata[fulldata[\"type\"]==\"TV\"][\"user_rating\"],color=palette[0],kde=True,ax=axs[1],bins=\"auto\",alpha=1,fill=True,edgecolor=palette[12])\n",
    "axs[1].lines[0].set_color(palette[11])\n",
    "# axs[1].set_yscale(\"log\")\n",
    "axs[1].set_title(\"\\nUsers Anime Ratings Distribution [Category : TV]\\n\",fontsize=20)\n",
    "axs[1].set_xlabel(\"Rating\")\n",
    "axs[1].set_ylabel(\"Total\")\n",
    "\n",
    "sns.despine(left=True, bottom=True)\n",
    "plt.show()"
   ],
   "metadata": {
    "_kg_hide-input": true,
    "execution": {
     "iopub.status.busy": "2023-12-09T00:13:18.115948Z",
     "iopub.execute_input": "2023-12-09T00:13:18.116403Z",
     "iopub.status.idle": "2023-12-09T00:13:40.878739Z",
     "shell.execute_reply.started": "2023-12-09T00:13:18.116353Z",
     "shell.execute_reply": "2023-12-09T00:13:40.877889Z"
    },
    "trusted": true
   },
   "execution_count": null,
   "outputs": []
  },
  {
   "cell_type": "markdown",
   "source": [
    "**Insights:**\n",
    "\n",
    "* Most of the Anime ratings are spread between 6.0 - 8.0\n",
    "* Most of the users ratings are spread between 6.0 - 10.0\n",
    "* The mode of the users ratings distribution is around 7.0 - 9.0\n",
    "* Both the distribution are left skewed\n",
    "* Users rating(-1) is an outlier in ratings of users which can be discarded"
   ],
   "metadata": {}
  },
  {
   "cell_type": "code",
   "source": [
    "print(\"Let's explore the ratings distribution of OVA category :\\n\")\n",
    "\n",
    "_, axs = plt.subplots(1,2,figsize=(20,8),sharex=False,sharey=False)\n",
    "plt.tight_layout(pad=4.0)\n",
    "\n",
    "sns.histplot(top_anime_temp2[top_anime_temp2[\"type\"]==\"OVA\"][\"rating\"],color=palette[1],kde=True,ax=axs[0],bins=20,alpha=1,fill=True,edgecolor=palette[12])\n",
    "axs[0].lines[0].set_color(palette[11])\n",
    "axs[0].set_title(\"\\nAnime's Average Ratings Distribution [Category : OVA]\\n\",fontsize=20)\n",
    "axs[0].set_xlabel(\"Rating\")\n",
    "axs[0].set_ylabel(\"Total\")\n",
    "\n",
    "sns.histplot(fulldata[fulldata[\"type\"]==\"OVA\"][\"user_rating\"],color=palette[1],kde=True,ax=axs[1],bins=\"auto\",alpha=1,fill=True,edgecolor=palette[12])\n",
    "axs[1].lines[0].set_color(palette[11])\n",
    "# axs[1].set_yscale(\"log\")\n",
    "axs[1].set_title(\"\\nUsers Anime Ratings Distribution [Category : OVA]\\n\",fontsize=20)\n",
    "axs[1].set_xlabel(\"Rating\")\n",
    "axs[1].set_ylabel(\"Total\")\n",
    "\n",
    "sns.despine(left=True, bottom=True)\n",
    "plt.show()"
   ],
   "metadata": {
    "_kg_hide-input": true,
    "execution": {
     "iopub.status.busy": "2023-12-09T00:13:40.879941Z",
     "iopub.execute_input": "2023-12-09T00:13:40.880833Z",
     "iopub.status.idle": "2023-12-09T00:13:44.384712Z",
     "shell.execute_reply.started": "2023-12-09T00:13:40.880803Z",
     "shell.execute_reply": "2023-12-09T00:13:44.383039Z"
    },
    "trusted": true
   },
   "execution_count": null,
   "outputs": []
  },
  {
   "cell_type": "markdown",
   "source": [
    "**Insights:**\n",
    "\n",
    "* Most of the Anime ratings are spread between 5.5 - 7.5\n",
    "* Most of the users ratings are spread between 5.5 - 10.0\n",
    "* The mode of the users ratings distribution is around 7.0 - 8.0\n",
    "* Both the distribution are left skewed\n",
    "* Users rating(-1) is an outlier in ratings of users which can be discarded"
   ],
   "metadata": {}
  },
  {
   "cell_type": "code",
   "source": [
    "print(\"Let's explore the ratings distribution of MOVIE category :\\n\")\n",
    "\n",
    "_, axs = plt.subplots(1,2,figsize=(20,8),sharex=False,sharey=False)\n",
    "plt.tight_layout(pad=4.0)\n",
    "\n",
    "sns.histplot(top_anime_temp2[top_anime_temp2[\"type\"]==\"Movie\"][\"rating\"],color=palette[2],kde=True,ax=axs[0],bins=20,alpha=1,fill=True,edgecolor=palette[12])\n",
    "axs[0].lines[0].set_color(palette[3])\n",
    "axs[0].set_title(\"\\nAnime's Average Ratings Distribution [Category : Movie]\\n\",fontsize=20)\n",
    "axs[0].set_xlabel(\"Rating\")\n",
    "axs[0].set_ylabel(\"Total\")\n",
    "\n",
    "sns.histplot(fulldata[fulldata[\"type\"]==\"Movie\"][\"user_rating\"],color=palette[2],kde=True,ax=axs[1],bins=\"auto\",alpha=1,fill=True,edgecolor=palette[12])\n",
    "axs[1].lines[0].set_color(palette[3])\n",
    "# axs[1].set_yscale(\"log\")\n",
    "axs[1].set_title(\"\\nUsers Anime Ratings Distribution [Category : Movie]\\n\",fontsize=20)\n",
    "axs[1].set_xlabel(\"Rating\")\n",
    "axs[1].set_ylabel(\"Total\")\n",
    "\n",
    "sns.despine(left=True, bottom=True)\n",
    "plt.show()"
   ],
   "metadata": {
    "_kg_hide-input": true,
    "execution": {
     "iopub.status.busy": "2023-12-09T00:13:44.385948Z",
     "iopub.execute_input": "2023-12-09T00:13:44.386314Z",
     "iopub.status.idle": "2023-12-09T00:13:49.074481Z",
     "shell.execute_reply.started": "2023-12-09T00:13:44.386281Z",
     "shell.execute_reply": "2023-12-09T00:13:49.072863Z"
    },
    "trusted": true
   },
   "execution_count": null,
   "outputs": []
  },
  {
   "cell_type": "markdown",
   "source": [
    "**Insights:**\n",
    "\n",
    "* Most of the Anime ratings are spread between 4.5 - 8.5\n",
    "* Most of the users ratings are spread between 5.0 - 10.0\n",
    "* The mode of the users ratings distribution is around 7.0 - 9.0\n",
    "* Both the distribution are left skewed\n",
    "* Users rating(-1) is an outlier in ratings of users which can be discarded"
   ],
   "metadata": {}
  },
  {
   "cell_type": "code",
   "source": [
    "print(\"Let's explore the ratings distribution of SPECIAL category :\\n\")\n",
    "\n",
    "_, axs = plt.subplots(1,2,figsize=(20,8),sharex=False,sharey=False)\n",
    "plt.tight_layout(pad=4.0)\n",
    "\n",
    "sns.histplot(top_anime_temp2[top_anime_temp2[\"type\"]==\"Special\"][\"rating\"],color=palette[3],kde=True,ax=axs[0],bins=20,alpha=1,fill=True,edgecolor=palette[12])\n",
    "axs[0].lines[0].set_color(palette[11])\n",
    "axs[0].set_title(\"\\nAnime's Average Ratings Distribution [Category : Special]\\n\",fontsize=20)\n",
    "axs[0].set_xlabel(\"Rating\")\n",
    "axs[0].set_ylabel(\"Total\")\n",
    "\n",
    "sns.histplot(fulldata[fulldata[\"type\"]==\"Special\"][\"user_rating\"],color=palette[3],kde=True,ax=axs[1],bins=\"auto\",alpha=1,fill=True,edgecolor=palette[12])\n",
    "axs[1].lines[0].set_color(palette[11])\n",
    "# axs[1].set_yscale(\"log\")\n",
    "axs[1].set_title(\"\\nUsers Anime Ratings Distribution [Category : Special]\\n\",fontsize=20)\n",
    "axs[1].set_xlabel(\"Rating\")\n",
    "axs[1].set_ylabel(\"Total\")\n",
    "\n",
    "sns.despine(left=True, bottom=True)\n",
    "plt.show()"
   ],
   "metadata": {
    "_kg_hide-input": true,
    "execution": {
     "iopub.status.busy": "2023-12-09T00:13:49.075939Z",
     "iopub.execute_input": "2023-12-09T00:13:49.076642Z",
     "iopub.status.idle": "2023-12-09T00:13:51.693712Z",
     "shell.execute_reply.started": "2023-12-09T00:13:49.076608Z",
     "shell.execute_reply": "2023-12-09T00:13:51.692462Z"
    },
    "trusted": true
   },
   "execution_count": null,
   "outputs": []
  },
  {
   "cell_type": "markdown",
   "source": [
    "**Insights:**\n",
    "\n",
    "* Most of the Anime ratings are spread between 5.5 - 8.0\n",
    "* Most of the users ratings are spread between 5.0 - 10.0\n",
    "* The mode of the users ratings distribution is around 7.0 - 8.0\n",
    "* Both the distribution are left skewed\n",
    "* Users rating(-1) is an outlier in ratings of users which can be discarded"
   ],
   "metadata": {}
  },
  {
   "cell_type": "code",
   "source": [
    "print(\"Let's explore the ratings distribution of ONA category :\\n\")\n",
    "\n",
    "_, axs = plt.subplots(1,2,figsize=(20,8),sharex=False,sharey=False)\n",
    "plt.tight_layout(pad=4.0)\n",
    "\n",
    "sns.histplot(top_anime_temp2[top_anime_temp2[\"type\"]==\"ONA\"][\"rating\"],color=palette[4],kde=True,ax=axs[0],bins=20,alpha=1,fill=True,edgecolor=palette[12])\n",
    "axs[0].lines[0].set_color(palette[3])\n",
    "axs[0].set_title(\"\\nAnime's Average Ratings Distribution [Category : ONA]\\n\",fontsize=20)\n",
    "axs[0].set_xlabel(\"Rating\")\n",
    "axs[0].set_ylabel(\"Total\")\n",
    "\n",
    "sns.histplot(fulldata[fulldata[\"type\"]==\"ONA\"][\"user_rating\"],color=palette[4],kde=True,ax=axs[1],bins=\"auto\",alpha=1,fill=True,edgecolor=palette[12])\n",
    "axs[1].lines[0].set_color(palette[3])\n",
    "# axs[1].set_yscale(\"log\")\n",
    "axs[1].set_title(\"\\nUsers Anime Ratings Distribution [Category : ONA]\\n\",fontsize=20)\n",
    "axs[1].set_xlabel(\"Rating\")\n",
    "axs[1].set_ylabel(\"Total\")\n",
    "\n",
    "sns.despine(left=True, bottom=True)\n",
    "plt.show()"
   ],
   "metadata": {
    "_kg_hide-input": true,
    "execution": {
     "iopub.status.busy": "2023-12-09T00:13:51.695131Z",
     "iopub.execute_input": "2023-12-09T00:13:51.695476Z",
     "iopub.status.idle": "2023-12-09T00:13:52.963653Z",
     "shell.execute_reply.started": "2023-12-09T00:13:51.695445Z",
     "shell.execute_reply": "2023-12-09T00:13:52.962274Z"
    },
    "trusted": true
   },
   "execution_count": null,
   "outputs": []
  },
  {
   "cell_type": "markdown",
   "source": [
    "**Insights:**\n",
    "\n",
    "* Most of the Anime ratings are spread between 4.0 - 7.0\n",
    "* Most of the users ratings are spread between 5.0 - 10.0\n",
    "* The mode of the users ratings distribution is around 7.0 - 8.0\n",
    "* Both the distribution are left skewed\n",
    "* Users rating(-1) is an outlier in ratings of users which can be discarded"
   ],
   "metadata": {}
  },
  {
   "cell_type": "code",
   "source": [
    "print(\"Let's explore the ratings distribution of MUSIC category :\\n\")\n",
    "\n",
    "_, axs = plt.subplots(1,2,figsize=(20,8),sharex=False,sharey=False)\n",
    "plt.tight_layout(pad=4.0)\n",
    "\n",
    "sns.histplot(top_anime_temp2[top_anime_temp2[\"type\"]==\"Music\"][\"rating\"],color=palette[5],kde=True,ax=axs[0],bins=20,alpha=1,fill=True,edgecolor=palette[12])\n",
    "axs[0].lines[0].set_color(palette[11])\n",
    "axs[0].set_title(\"\\nAnime's Average Ratings Distribution [Category : Music]\\n\",fontsize=20)\n",
    "axs[0].set_xlabel(\"Rating\")\n",
    "axs[0].set_ylabel(\"Total\")\n",
    "\n",
    "sns.histplot(fulldata[fulldata[\"type\"]==\"Music\"][\"user_rating\"],color=palette[5],kde=True,ax=axs[1],bins=\"auto\",alpha=1,fill=True,edgecolor=palette[12])\n",
    "axs[1].lines[0].set_color(palette[11])\n",
    "# axs[1].set_yscale(\"log\")\n",
    "axs[1].set_title(\"\\nUsers Anime Ratings Distribution [Category : Music]\\n\",fontsize=20)\n",
    "axs[1].set_xlabel(\"Rating\")\n",
    "axs[1].set_ylabel(\"Total\")\n",
    "\n",
    "sns.despine(left=True, bottom=True)\n",
    "plt.show()"
   ],
   "metadata": {
    "_kg_hide-input": true,
    "execution": {
     "iopub.status.busy": "2023-12-09T00:13:52.965123Z",
     "iopub.execute_input": "2023-12-09T00:13:52.965499Z",
     "iopub.status.idle": "2023-12-09T00:13:54.100167Z",
     "shell.execute_reply.started": "2023-12-09T00:13:52.965466Z",
     "shell.execute_reply": "2023-12-09T00:13:54.098953Z"
    },
    "trusted": true
   },
   "execution_count": null,
   "outputs": []
  },
  {
   "cell_type": "markdown",
   "source": [
    "**Insights:**\n",
    "\n",
    "* Most of the Anime ratings are spread between 4.0 - 7.5\n",
    "* Most of the users ratings are spread between 5.0 - 10.0\n",
    "* The mode of the users ratings distribution is around 6.5 - 8.0\n",
    "* Both the distribution are left skewed\n",
    "* Users rating(-1) is an outlier in ratings of users which can be discarded"
   ],
   "metadata": {}
  },
  {
   "cell_type": "markdown",
   "source": [
    "<a id=\"12\"></a>\n",
    "# <p style=\"padding:10px;background-color:orange;margin:0;color:black;font-family:newtimeroman;font-size:100%;text-align:center;border-radius: 15px 50px;overflow:hidden;font-weight:500\">Anime Genres</p>\n"
   ],
   "metadata": {}
  },
  {
   "cell_type": "code",
   "source": [
    "top_anime_temp3 = top_anime[[\"genre\"]]\n",
    "top_anime_temp3[\"genre\"] = top_anime_temp3[\"genre\"].str.split(\", | , | ,\")\n",
    "top_anime_temp3 = top_anime_temp3.explode(\"genre\")\n",
    "top_anime_temp3[\"genre\"] = top_anime_temp3[\"genre\"].str.title()\n",
    "\n",
    "print(f'Total unique genres are {len(top_anime_temp3[\"genre\"].unique())}')\n",
    "print(f'Occurances of unique genres :')\n",
    "top_anime_temp3[\"genre\"].value_counts().to_frame().T.style.set_properties(**{\"background-color\": \"#2a9d8f\",\"color\":\"white\",\"border\": \"1.5px  solid black\"})"
   ],
   "metadata": {
    "_kg_hide-input": true,
    "execution": {
     "iopub.status.busy": "2023-12-09T00:13:54.101400Z",
     "iopub.execute_input": "2023-12-09T00:13:54.101687Z",
     "iopub.status.idle": "2023-12-09T00:13:54.196633Z",
     "shell.execute_reply.started": "2023-12-09T00:13:54.101659Z",
     "shell.execute_reply": "2023-12-09T00:13:54.195765Z"
    },
    "trusted": true
   },
   "execution_count": null,
   "outputs": []
  },
  {
   "cell_type": "code",
   "source": [
    "from wordcloud import WordCloud\n",
    "\n",
    "wordcloud = WordCloud(width = 800, height = 250, background_color =\"black\",colormap =\"RdYlGn\",\n",
    "                      max_font_size=100, stopwords =None,repeat= True).generate(top_anime[\"genre\"].str.cat(sep=\", | , | ,\"))\n",
    "\n",
    "print(\"let's explore how genre's wordcloud looks like\\n\")\n",
    "plt.figure(figsize = (20, 8),facecolor = \"#ffd100\") \n",
    "plt.imshow(wordcloud)\n",
    "plt.axis(\"off\")\n",
    "plt.margins(x = 0, y = 0)\n",
    "plt.tight_layout(pad = 0) \n",
    "plt.show()"
   ],
   "metadata": {
    "_kg_hide-input": true,
    "execution": {
     "iopub.status.busy": "2023-12-09T00:13:54.197633Z",
     "iopub.execute_input": "2023-12-09T00:13:54.198811Z",
     "iopub.status.idle": "2023-12-09T00:13:54.987395Z",
     "shell.execute_reply.started": "2023-12-09T00:13:54.198749Z",
     "shell.execute_reply": "2023-12-09T00:13:54.986452Z"
    },
    "trusted": true
   },
   "execution_count": null,
   "outputs": []
  },
  {
   "cell_type": "markdown",
   "source": [
    "<a id=\"13\"></a>\n",
    "# <p style=\"padding:10px;background-color:orange;margin:0;color:black;font-family:newtimeroman;font-size:100%;text-align:center;border-radius: 15px 50px;overflow:hidden;font-weight:500\">Final Data Preprocessing</p>\n"
   ],
   "metadata": {}
  },
  {
   "cell_type": "code",
   "source": [
    "data = fulldata.copy()\n",
    "data[\"user_rating\"].replace(to_replace = -1 , value = np.nan ,inplace=True)\n",
    "data = data.dropna(axis = 0)\n",
    "print(\"Null values after final pre-processing :\")\n",
    "data.isna().sum().to_frame().T.style.set_properties(**{\"background-color\": \"#2a9d8f\",\"color\":\"white\",\"border\": \"1.5px  solid black\"})"
   ],
   "metadata": {
    "_kg_hide-input": true,
    "execution": {
     "iopub.status.busy": "2023-12-09T00:13:54.988683Z",
     "iopub.execute_input": "2023-12-09T00:13:54.989100Z",
     "iopub.status.idle": "2023-12-09T00:13:57.936681Z",
     "shell.execute_reply.started": "2023-12-09T00:13:54.989072Z",
     "shell.execute_reply": "2023-12-09T00:13:57.934825Z"
    },
    "trusted": true
   },
   "execution_count": null,
   "outputs": []
  },
  {
   "cell_type": "markdown",
   "source": [
    "There are a lot of users who have rated only once, even if they have rated 5 animes, it can't be considered as a valuable record for recommendation. So we will consider minimum 50 ratings by the user as a threshold value."
   ],
   "metadata": {}
  },
  {
   "cell_type": "code",
   "source": [
    "selected_users = data[\"user_id\"].value_counts()\n",
    "data = data[data[\"user_id\"].isin(selected_users[selected_users >= 50].index)]"
   ],
   "metadata": {
    "_kg_hide-input": true,
    "execution": {
     "iopub.status.busy": "2023-12-09T00:13:57.938642Z",
     "iopub.execute_input": "2023-12-09T00:13:57.939230Z",
     "iopub.status.idle": "2023-12-09T00:13:58.607619Z",
     "shell.execute_reply.started": "2023-12-09T00:13:57.939187Z",
     "shell.execute_reply": "2023-12-09T00:13:58.606570Z"
    },
    "trusted": true
   },
   "execution_count": null,
   "outputs": []
  },
  {
   "cell_type": "markdown",
   "source": [
    "We will create a pivot table consists of rows as title and columns as user id, this will help us to create sparse matrix which can be very helpful in finding the cosine similarity."
   ],
   "metadata": {}
  },
  {
   "cell_type": "code",
   "source": [
    "data_pivot_temp = data.pivot_table(index=\"name\",columns=\"user_id\",values=\"user_rating\").fillna(0)\n",
    "data_pivot_temp.head()"
   ],
   "metadata": {
    "_kg_hide-input": true,
    "execution": {
     "iopub.status.busy": "2023-12-09T00:13:58.609006Z",
     "iopub.execute_input": "2023-12-09T00:13:58.609678Z",
     "iopub.status.idle": "2023-12-09T00:14:07.501611Z",
     "shell.execute_reply.started": "2023-12-09T00:13:58.609621Z",
     "shell.execute_reply": "2023-12-09T00:14:07.500126Z"
    },
    "trusted": true
   },
   "execution_count": null,
   "outputs": []
  },
  {
   "cell_type": "markdown",
   "source": [
    "We have got many japanese or special character symbols in anime name. Let's remove those using this function"
   ],
   "metadata": {}
  },
  {
   "cell_type": "code",
   "source": [
    "import re\n",
    "def text_cleaning(text):\n",
    "    text = re.sub(r'&quot;', '', text)\n",
    "    text = re.sub(r'.hack//', '', text)\n",
    "    text = re.sub(r'&#039;', '', text)\n",
    "    text = re.sub(r'A&#039;s', '', text)\n",
    "    text = re.sub(r'I&#039;', 'I\\'', text)\n",
    "    text = re.sub(r'&amp;', 'and', text)\n",
    "    \n",
    "    return text\n",
    "\n",
    "data[\"name\"] = data[\"name\"].apply(text_cleaning)"
   ],
   "metadata": {
    "_kg_hide-input": true,
    "execution": {
     "iopub.status.busy": "2023-12-09T00:14:07.503200Z",
     "iopub.execute_input": "2023-12-09T00:14:07.503510Z",
     "iopub.status.idle": "2023-12-09T00:14:43.556578Z",
     "shell.execute_reply.started": "2023-12-09T00:14:07.503481Z",
     "shell.execute_reply": "2023-12-09T00:14:43.555546Z"
    },
    "trusted": true
   },
   "execution_count": null,
   "outputs": []
  },
  {
   "cell_type": "code",
   "source": [
    "data_pivot = data.pivot_table(index=\"name\",columns=\"user_id\",values=\"user_rating\").fillna(0)\n",
    "print(\"After Cleaning the animes names, let's see how it looks like.\")\n",
    "data_pivot.head()"
   ],
   "metadata": {
    "_kg_hide-input": true,
    "execution": {
     "iopub.status.busy": "2023-12-09T00:14:43.557900Z",
     "iopub.execute_input": "2023-12-09T00:14:43.558185Z",
     "iopub.status.idle": "2023-12-09T00:14:52.415027Z",
     "shell.execute_reply.started": "2023-12-09T00:14:43.558159Z",
     "shell.execute_reply": "2023-12-09T00:14:52.413584Z"
    },
    "trusted": true
   },
   "execution_count": null,
   "outputs": []
  },
  {
   "cell_type": "markdown",
   "source": [
    "<a id=\"14\"></a>\n",
    "# <p style=\"padding:10px;background-color:orange;margin:0;color:black;font-family:newtimeroman;font-size:100%;text-align:center;border-radius: 15px 50px;overflow:hidden;font-weight:500\">Collaborative Recommender</p>\n"
   ],
   "metadata": {}
  },
  {
   "cell_type": "markdown",
   "source": [
    "Collaborative filtering is a technique that can filter out items that a user might like on the basis of reactions by similar users. It works by searching a large group of people and finding a smaller set of users with tastes similar to a particular user. We will use Cosine similarity which is a metric used to measure how similar the documents are irrespective of their size. Mathematically, it measures the cosine of the angle between two vectors projected in a multi-dimensional space. The cosine similarity is advantageous because even if the two similar documents are far apart by the Euclidean distance (due to the size of the document), chances are they may still be oriented closer together. The smaller the angle, higher the cosine similarity."
   ],
   "metadata": {}
  },
  {
   "cell_type": "code",
   "source": [
    "from scipy.sparse import csr_matrix\n",
    "from sklearn.neighbors import NearestNeighbors\n",
    "\n",
    "data_matrix = csr_matrix(data_pivot.values)\n",
    "\n",
    "model_knn = NearestNeighbors(metric = \"cosine\", algorithm = \"brute\")\n",
    "model_knn.fit(data_matrix)\n",
    "\n",
    "query_no = np.random.choice(data_pivot.shape[0]) # random anime title and finding recommendation\n",
    "print(f\"We will find recommendation for {query_no} no anime which is {data_pivot.index[query_no]}.\")\n",
    "distances, indices = model_knn.kneighbors(data_pivot.iloc[query_no,:].values.reshape(1, -1), n_neighbors = 6)"
   ],
   "metadata": {
    "_kg_hide-input": true,
    "execution": {
     "iopub.status.busy": "2023-12-09T00:14:52.416673Z",
     "iopub.execute_input": "2023-12-09T00:14:52.416988Z",
     "iopub.status.idle": "2023-12-09T00:14:55.840784Z",
     "shell.execute_reply.started": "2023-12-09T00:14:52.416962Z",
     "shell.execute_reply": "2023-12-09T00:14:55.839666Z"
    },
    "trusted": true
   },
   "execution_count": null,
   "outputs": []
  },
  {
   "cell_type": "code",
   "source": [
    "no = []\n",
    "name = []\n",
    "distance = []\n",
    "rating = []\n",
    "\n",
    "for i in range(0, len(distances.flatten())):\n",
    "    if i == 0:\n",
    "        print(f\"Recommendations for {data_pivot.index[query_no]} viewers :\\n\")\n",
    "    else:\n",
    "        #  print(f\"{i}: {data_pivot.index[indices.flatten()[i]]} , with distance of {distances.flatten()[i]}\")        \n",
    "        no.append(i)\n",
    "        name.append(data_pivot.index[indices.flatten()[i]])\n",
    "        distance.append(distances.flatten()[i])\n",
    "        rating.append(*anime[anime[\"name\"]==data_pivot.index[indices.flatten()[i]]][\"rating\"].values)\n",
    "\n",
    "dic = {\"No\" : no, \"Anime Name\" : name, \"Rating\" : rating}\n",
    "recommendation = pd.DataFrame(data = dic)\n",
    "recommendation.set_index(\"No\", inplace = True)\n",
    "recommendation.style.set_properties(**{\"background-color\": \"#2a9d8f\",\"color\":\"white\",\"border\": \"1.5px  solid black\"})"
   ],
   "metadata": {
    "_kg_hide-input": true,
    "execution": {
     "iopub.status.busy": "2023-12-09T00:14:55.842062Z",
     "iopub.execute_input": "2023-12-09T00:14:55.842372Z",
     "iopub.status.idle": "2023-12-09T00:14:55.875091Z",
     "shell.execute_reply.started": "2023-12-09T00:14:55.842345Z",
     "shell.execute_reply": "2023-12-09T00:14:55.873903Z"
    },
    "trusted": true
   },
   "execution_count": null,
   "outputs": []
  }
 ]
}
